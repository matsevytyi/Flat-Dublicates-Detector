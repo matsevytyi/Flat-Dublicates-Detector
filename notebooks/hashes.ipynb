{
  "cells": [
    {
      "cell_type": "code",
      "execution_count": null,
      "id": "0271418f",
      "metadata": {
        "execution": {
          "iopub.execute_input": "2023-07-05T10:01:29.633719Z",
          "iopub.status.busy": "2023-07-05T10:01:29.632310Z",
          "iopub.status.idle": "2023-07-05T10:01:32.159565Z",
          "shell.execute_reply": "2023-07-05T10:01:32.158183Z"
        },
        "papermill": {
          "duration": 2.536813,
          "end_time": "2023-07-05T10:01:32.163196",
          "exception": false,
          "start_time": "2023-07-05T10:01:29.626383",
          "status": "completed"
        },
        "tags": [],
        "id": "0271418f"
      },
      "outputs": [],
      "source": [
        "import os\n",
        "import glob\n",
        "\n",
        "import cv2\n",
        "import imagehash\n",
        "import numpy as np\n",
        "import pandas as pd\n",
        "from PIL import Image\n",
        "from sklearn.ensemble import RandomForestClassifier\n",
        "from sklearn.metrics import f1_score, precision_recall_curve\n",
        "from tqdm import tqdm"
      ]
    },
    {
      "cell_type": "code",
      "execution_count": null,
      "id": "9fb3d1e4",
      "metadata": {
        "execution": {
          "iopub.execute_input": "2023-07-05T10:01:32.173236Z",
          "iopub.status.busy": "2023-07-05T10:01:32.172707Z",
          "iopub.status.idle": "2023-07-05T10:01:32.183802Z",
          "shell.execute_reply": "2023-07-05T10:01:32.182431Z"
        },
        "papermill": {
          "duration": 0.019611,
          "end_time": "2023-07-05T10:01:32.186762",
          "exception": false,
          "start_time": "2023-07-05T10:01:32.167151",
          "status": "completed"
        },
        "tags": [],
        "id": "9fb3d1e4"
      },
      "outputs": [],
      "source": [
        "def crop_horizontal_white_stripes(image_path):\n",
        "    image = Image.open(image_path)\n",
        "    gray = np.array(image.convert('L'))\n",
        "    image = np.array(image)\n",
        "    height, width = gray.shape\n",
        "\n",
        "    # remove rows and columns thas contain only white pixels\n",
        "    left_side_width = np.min(np.argmin(gray > 250, axis=1))\n",
        "    right_side_width = np.min(np.argmin(gray[:,::-1] > 250, axis=1))\n",
        "    up_side_height = np.min(np.argmin(gray > 250, axis=0))\n",
        "    down_side_height = np.min(np.argmin(gray[::-1, :] > 250, axis=0))\n",
        "    cropped = image[up_side_height:height-down_side_height, left_side_width:width-right_side_width]\n",
        "\n",
        "    return cropped\n",
        "\n",
        "\n",
        "hash_functions = {\n",
        "    'dhash': imagehash.dhash,\n",
        "    'whash': imagehash.whash,\n",
        "    'phash': imagehash.phash,\n",
        "    'ahash': imagehash.average_hash\n",
        "}"
      ]
    },
    {
      "cell_type": "code",
      "execution_count": null,
      "id": "037cd62e",
      "metadata": {
        "execution": {
          "iopub.execute_input": "2023-07-05T10:01:32.199902Z",
          "iopub.status.busy": "2023-07-05T10:01:32.198677Z",
          "iopub.status.idle": "2023-07-05T14:21:39.153726Z",
          "shell.execute_reply": "2023-07-05T14:21:39.149915Z"
        },
        "papermill": {
          "duration": 15606.967977,
          "end_time": "2023-07-05T14:21:39.158465",
          "exception": false,
          "start_time": "2023-07-05T10:01:32.190488",
          "status": "completed"
        },
        "tags": [],
        "id": "037cd62e"
      },
      "outputs": [],
      "source": [
        "train_df = pd.read_csv('/kaggle/input/csc-hackathon-2023-lunua-task/train.csv')\n",
        "train_df['image_name1'] = train_df['image_url1'].apply(lambda x: os.path.basename(x))\n",
        "train_df['image_name2'] = train_df['image_url2'].apply(lambda x: os.path.basename(x))\n",
        "\n",
        "for name in hash_functions.keys():\n",
        "    train_df[name] = -1\n",
        "\n",
        "for ind in tqdm(train_df.index):\n",
        "    try:\n",
        "        image_1 = crop_horizontal_white_stripes(f\"/kaggle/input/csc-hackathon-2023-lun/train/{train_df.loc[ind, 'image_name1']}\")\n",
        "        image_2 = crop_horizontal_white_stripes(f\"/kaggle/input/csc-hackathon-2023-lun/train/{train_df.loc[ind, 'image_name2']}\")\n",
        "\n",
        "        for name, func in hash_functions.items():\n",
        "            hash_1 = func(Image.fromarray(image_1)).hash.reshape(-1)\n",
        "            hash_2 = func(Image.fromarray(image_2)).hash.reshape(-1)\n",
        "            train_df.loc[ind, name] = (hash_1 == hash_2).sum() / len(hash_1)\n",
        "\n",
        "    except:\n",
        "        continue\n",
        "\n",
        "train_df = train_df[train_df['dhash'] != -1]\n",
        "train_df.to_csv('train_hashes.csv')"
      ]
    },
    {
      "cell_type": "code",
      "execution_count": null,
      "id": "366cfce3",
      "metadata": {
        "execution": {
          "iopub.execute_input": "2023-07-05T14:23:04.622164Z",
          "iopub.status.busy": "2023-07-05T14:23:04.620941Z",
          "iopub.status.idle": "2023-07-05T15:32:01.163875Z",
          "shell.execute_reply": "2023-07-05T15:32:01.162419Z"
        },
        "papermill": {
          "duration": 4145.318627,
          "end_time": "2023-07-05T15:32:01.167223",
          "exception": false,
          "start_time": "2023-07-05T14:22:55.848596",
          "status": "completed"
        },
        "tags": [],
        "id": "366cfce3"
      },
      "outputs": [],
      "source": [
        "test_df = pd.read_csv('/kaggle/input/csc-hackathon-2023-lunua-task/test-data.csv')\n",
        "test_df['image_name1'] = test_df['image_url1'].apply(lambda x: os.path.basename(x))\n",
        "test_df['image_name2'] = test_df['image_url2'].apply(lambda x: os.path.basename(x))\n",
        "\n",
        "for name in hash_functions.keys():\n",
        "    test_df[name] = -1\n",
        "\n",
        "for ind in tqdm(test_df.index):\n",
        "    try:\n",
        "        image_1 = crop_horizontal_white_stripes(f\"/kaggle/input/csc-hackathon-2023-lun/test/{test_df.loc[ind, 'image_name1']}\")\n",
        "        image_2 = crop_horizontal_white_stripes(f\"/kaggle/input/csc-hackathon-2023-lun/test/{test_df.loc[ind, 'image_name2']}\")\n",
        "\n",
        "        for name, func in hash_functions.items():\n",
        "            hash_1 = func(Image.fromarray(image_1)).hash.reshape(-1)\n",
        "            hash_2 = func(Image.fromarray(image_2)).hash.reshape(-1)\n",
        "            test_df.loc[ind, name] = (hash_1 == hash_2).sum() / len(hash_1)\n",
        "\n",
        "    except:\n",
        "        continue\n",
        "\n",
        "test_df.to_csv('test_hashes.csv')"
      ]
    }
  ],
  "metadata": {
    "kernelspec": {
      "display_name": "Python 3 (ipykernel)",
      "language": "python",
      "name": "python3"
    },
    "language_info": {
      "codemirror_mode": {
        "name": "ipython",
        "version": 3
      },
      "file_extension": ".py",
      "mimetype": "text/x-python",
      "name": "python",
      "nbconvert_exporter": "python",
      "pygments_lexer": "ipython3",
      "version": "3.7.11"
    },
    "papermill": {
      "default_parameters": {},
      "duration": 19884.943866,
      "end_time": "2023-07-05T15:32:38.756205",
      "environment_variables": {},
      "exception": null,
      "input_path": "__notebook__.ipynb",
      "output_path": "__notebook__.ipynb",
      "parameters": {},
      "start_time": "2023-07-05T10:01:13.812339",
      "version": "2.4.0"
    },
    "colab": {
      "provenance": []
    }
  },
  "nbformat": 4,
  "nbformat_minor": 5
}