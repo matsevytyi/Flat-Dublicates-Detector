{
  "cells": [
    {
      "cell_type": "code",
      "execution_count": null,
      "id": "6a8d1b1e",
      "metadata": {
        "id": "6a8d1b1e"
      },
      "outputs": [],
      "source": [
        "import os\n",
        "\n",
        "import cv2\n",
        "import matplotlib.pyplot as plt\n",
        "import numpy as np\n",
        "import pandas as pd\n",
        "import seaborn as sns\n",
        "from sklearn.ensemble import RandomForestClassifier\n",
        "from sklearn.metrics import f1_score, precision_recall_curve, confusion_matrix\n",
        "from sklearn.model_selection import KFold\n",
        "from tqdm import tqdm"
      ]
    },
    {
      "cell_type": "code",
      "execution_count": null,
      "id": "0980d28c",
      "metadata": {
        "id": "0980d28c"
      },
      "outputs": [],
      "source": [
        "train_simclr = pd.read_csv('train_simclr_large.csv')\n",
        "train_hashes = pd.read_csv('train_hashes.csv')\n",
        "train_local = pd.read_csv('train_local_features.csv')\n",
        "\n",
        "train_simclr = train_simclr.iloc[:, [0, -2]]\n",
        "train_simclr.columns = ['ID', 'simclr']\n",
        "\n",
        "train_hashes = train_hashes.iloc[:, [0, -1, -2, -3, -4, -7, -5, -6]]\n",
        "train_hashes.columns = ['ID', 'phash', 'whash', 'dhash', 'ahash', 'is_same', 'image_name1', 'image_name2']\n",
        "\n",
        "train_local = train_local.iloc[:, [0, -2, -1]]\n",
        "train_local.columns = ['ID', 'sp', 'sp_score']\n",
        "\n",
        "train = train_simclr.merge(train_hashes, on='ID')\n",
        "train = train.merge(train_local, on='ID')"
      ]
    },
    {
      "cell_type": "code",
      "execution_count": null,
      "id": "12a5f74a",
      "metadata": {
        "id": "12a5f74a"
      },
      "outputs": [],
      "source": [
        "bad_samples = [50719, 51028, 54253, 58461, 62639, 65452, 69671, 69696, 70908, 72838, 75008, 76712, 83840]\n",
        "subset = train[~train.index.isin(bad_samples)]\n",
        "\n",
        "features = ['simclr', 'phash', 'dhash', 'whash', 'sp']\n",
        "\n",
        "reg = RandomForestClassifier(n_estimators=100)\n",
        "reg.fit((subset[features]), subset['is_same'])\n",
        "reg_pred = reg.predict_proba(subset[features])[:, 1]\n",
        "precision, recall, thresholds = precision_recall_curve(subset['is_same'], reg_pred)\n",
        "cutoff = sorted(list(zip(np.abs(precision - recall), thresholds)), key=lambda x: x[0], reverse=False)[0][1]\n",
        "print(cutoff)\n",
        "\n",
        "print(f1_score(subset['is_same'], reg.predict_proba(subset[features])[:, 1] > cutoff))"
      ]
    },
    {
      "cell_type": "code",
      "execution_count": null,
      "id": "dedca585",
      "metadata": {
        "id": "dedca585"
      },
      "outputs": [],
      "source": [
        "test_simclr = pd.read_csv('test_simclr_large.csv')\n",
        "test_hashes = pd.read_csv('test_hashes.csv')\n",
        "test_local = pd.read_csv('test_local_features.csv')\n",
        "\n",
        "test_hashes = test_hashes.loc[:, ['ID', 'phash', 'whash', 'dhash']]\n",
        "test_simclr = test_simclr.loc[:, ['ID', 'simclr']]\n",
        "test_local = test_local.loc[:, ['ID', 'sp', 'sp_score', 'image_name1', 'image_name2']]\n",
        "\n",
        "test = test_simclr.merge(test_hashes, on='ID')\n",
        "test = test.merge(test_local, on='ID')"
      ]
    },
    {
      "cell_type": "code",
      "execution_count": null,
      "id": "fd2f3460",
      "metadata": {
        "id": "fd2f3460"
      },
      "outputs": [],
      "source": [
        "test_pred_proba = reg.predict_proba(test[features])[:, 1]\n",
        "test_pred = test_pred_proba > cutoff\n",
        "\n",
        "test['is_same'] = test_pred.astype(int)\n",
        "\n",
        "submission_df = test[['ID', 'is_same']]\n",
        "submission_df = submission_df.set_index('ID')\n",
        "submission_df['different'] = 1 - submission_df['is_same']\n",
        "submission_df.columns = ['same', 'different']\n",
        "submission_df.to_csv('submission.csv')"
      ]
    }
  ],
  "metadata": {
    "kernelspec": {
      "display_name": "Python 3 (ipykernel)",
      "language": "python",
      "name": "python3"
    },
    "language_info": {
      "codemirror_mode": {
        "name": "ipython",
        "version": 3
      },
      "file_extension": ".py",
      "mimetype": "text/x-python",
      "name": "python",
      "nbconvert_exporter": "python",
      "pygments_lexer": "ipython3",
      "version": "3.7.11"
    },
    "colab": {
      "provenance": []
    }
  },
  "nbformat": 4,
  "nbformat_minor": 5
}