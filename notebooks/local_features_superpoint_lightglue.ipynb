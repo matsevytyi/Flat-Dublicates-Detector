{
  "metadata": {
    "kernelspec": {
      "language": "python",
      "display_name": "Python 3",
      "name": "python3"
    },
    "language_info": {
      "pygments_lexer": "ipython3",
      "nbconvert_exporter": "python",
      "version": "3.6.4",
      "file_extension": ".py",
      "codemirror_mode": {
        "name": "ipython",
        "version": 3
      },
      "name": "python",
      "mimetype": "text/x-python"
    },
    "colab": {
      "provenance": []
    }
  },
  "nbformat_minor": 0,
  "nbformat": 4,
  "cells": [
    {
      "cell_type": "code",
      "source": [
        "!pip install einops\n",
        "!pip install kornia\n",
        "!pip install git+https://github.com/cvg/LightGlue.git"
      ],
      "metadata": {
        "_cell_guid": "b1076dfc-b9ad-4769-8c92-a6c4dae69d19",
        "_uuid": "8f2839f25d086af736a60e9eeb907d3b93b6e0e5",
        "id": "dguj4fd9ykEr",
        "execution": {
          "iopub.status.busy": "2023-07-08T12:21:33.694117Z",
          "iopub.execute_input": "2023-07-08T12:21:33.694491Z",
          "iopub.status.idle": "2023-07-08T12:22:09.437297Z",
          "shell.execute_reply.started": "2023-07-08T12:21:33.694463Z",
          "shell.execute_reply": "2023-07-08T12:22:09.436092Z"
        },
        "trusted": true
      },
      "execution_count": null,
      "outputs": []
    },
    {
      "cell_type": "code",
      "source": [
        "import os\n",
        "import glob\n",
        "\n",
        "from lightglue import LightGlue, SuperPoint, DISK\n",
        "from lightglue.utils import load_image, match_pair\n",
        "import numpy as np\n",
        "import pandas as pd\n",
        "from tqdm import tqdm"
      ],
      "metadata": {
        "id": "u2s-XXsDykEu",
        "execution": {
          "iopub.status.busy": "2023-07-08T12:22:09.439955Z",
          "iopub.execute_input": "2023-07-08T12:22:09.440367Z",
          "iopub.status.idle": "2023-07-08T12:22:09.446512Z",
          "shell.execute_reply.started": "2023-07-08T12:22:09.440314Z",
          "shell.execute_reply": "2023-07-08T12:22:09.445425Z"
        },
        "trusted": true
      },
      "execution_count": null,
      "outputs": []
    },
    {
      "cell_type": "code",
      "source": [
        "sp = SuperPoint(max_num_keypoints=4096).eval().cuda()\n",
        "matcher_sp = LightGlue(pretested='superpoint').eval().cuda()\n",
        "\n",
        "size = 640"
      ],
      "metadata": {
        "id": "nhINJcftykEw",
        "execution": {
          "iopub.status.busy": "2023-07-08T12:23:20.375734Z",
          "iopub.execute_input": "2023-07-08T12:23:20.376200Z",
          "iopub.status.idle": "2023-07-08T12:23:21.092465Z",
          "shell.execute_reply.started": "2023-07-08T12:23:20.376162Z",
          "shell.execute_reply": "2023-07-08T12:23:21.091521Z"
        },
        "trusted": true
      },
      "execution_count": null,
      "outputs": []
    },
    {
      "cell_type": "code",
      "source": [
        "train_df = pd.read_csv('/kaggle/input/csc-hackathon-2023-lunua-task/train.csv')\n",
        "train_df['image_name1'] = train_df['image_url1'].apply(lambda x: os.path.basename(x))\n",
        "train_df['image_name2'] = train_df['image_url2'].apply(lambda x: os.path.basename(x))\n",
        "\n",
        "train_df['sp_min'] = -1\n",
        "train_df['sp_sqrt'] = -1\n",
        "\n",
        "for ind in tqdm(train_df.index):\n",
        "    try:\n",
        "        image_1, scales_1 = load_image(f\"/kaggle/input/csc-hackathon-2023-lun/train/{train_df.loc[ind, 'image_name1']}\", resize=size)\n",
        "        image_2, scales_2 = load_image(f\"/kaggle/input/csc-hackathon-2023-lun/train/{train_df.loc[ind, 'image_name2']}\", resize=size)\n",
        "\n",
        "        image_1, scales_1 = image_1.cuda(), scales_1.cuda()\n",
        "        image_2, scales_2 = image_2.cuda(), scales_2.cuda()\n",
        "\n",
        "        pred_sp = match_pair(sp, matcher_sp, image_1, image_2, scales0=scales_1, scales1=scales_2)\n",
        "        train_df.loc[ind, 'sp_min'] = pred_sp['matching_scores'].shape[0] / min(pred_sp['keypoints0'].shape[0], pred_sp['keypoints1'].shape[0])\n",
        "        train_df.loc[ind, 'sp_sqrt'] = pred_sp['matching_scores'].shape[0] / np.sqrt(pred_sp['keypoints0'].shape[0] * pred_sp['keypoints1'].shape[0])\n",
        "\n",
        "    except:\n",
        "        continue\n",
        "\n",
        "train_df.to_csv('train_local_features.csv')"
      ],
      "metadata": {
        "id": "AotzfNepLUmS",
        "execution": {
          "iopub.status.busy": "2023-07-08T12:45:17.624740Z",
          "iopub.execute_input": "2023-07-08T12:45:17.625643Z",
          "iopub.status.idle": "2023-07-08T12:45:25.128804Z",
          "shell.execute_reply.started": "2023-07-08T12:45:17.625609Z",
          "shell.execute_reply": "2023-07-08T12:45:25.127755Z"
        },
        "trusted": true
      },
      "execution_count": null,
      "outputs": []
    },
    {
      "cell_type": "code",
      "source": [
        "test_df = pd.read_csv('/kaggle/input/csc-hackathon-2023-lunua-task/test-data.csv')\n",
        "test_df['image_name1'] = test_df['image_url1'].apply(lambda x: os.path.basename(x))\n",
        "test_df['image_name2'] = test_df['image_url2'].apply(lambda x: os.path.basename(x))\n",
        "\n",
        "test_df['sp_min'] = -1\n",
        "test_df['sp_sqrt'] = -1\n",
        "\n",
        "for ind in tqdm(test_df.index):\n",
        "    try:\n",
        "        image_1, scales_1 = load_image(f\"/kaggle/input/csc-hackathon-2023-lun/test/{test_df.loc[ind, 'image_name1']}\", resize=size)\n",
        "        image_2, scales_2 = load_image(f\"/kaggle/input/csc-hackathon-2023-lun/test/{test_df.loc[ind, 'image_name2']}\", resize=size)\n",
        "\n",
        "        image_1, scales_1 = image_1.cuda(), scales_1.cuda()\n",
        "        image_2, scales_2 = image_2.cuda(), scales_2.cuda()\n",
        "\n",
        "        pred_sp = match_pair(sp, matcher_sp, image_1, image_2, scales0=scales_1, scales1=scales_2)\n",
        "        test_df.loc[ind, 'sp_min'] = pred_sp['matching_scores'].shape[0] / min(pred_sp['keypoints0'].shape[0], pred_sp['keypoints1'].shape[0])\n",
        "        test_df.loc[ind, 'sp_sqrt'] = pred_sp['matching_scores'].shape[0] / np.sqrt(pred_sp['keypoints0'].shape[0] * pred_sp['keypoints1'].shape[0])\n",
        "\n",
        "    except:\n",
        "        continue\n",
        "\n",
        "test_df.to_csv('test_local_features.csv')"
      ],
      "metadata": {
        "id": "eFQANGy7LN9A",
        "trusted": true
      },
      "execution_count": null,
      "outputs": []
    }
  ]
}